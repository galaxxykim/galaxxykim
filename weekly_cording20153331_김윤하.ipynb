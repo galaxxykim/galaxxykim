{
  "nbformat": 4,
  "nbformat_minor": 0,
  "metadata": {
    "colab": {
      "name": "weekly cording20153331 김윤하.ipynb",
      "provenance": [],
      "collapsed_sections": [],
      "authorship_tag": "ABX9TyO8jAL83lmrkPA0HYDBv+V0",
      "include_colab_link": true
    },
    "kernelspec": {
      "name": "python3",
      "display_name": "Python 3"
    }
  },
  "cells": [
    {
      "cell_type": "markdown",
      "metadata": {
        "id": "view-in-github",
        "colab_type": "text"
      },
      "source": [
        "<a href=\"https://colab.research.google.com/github/galaxxykim/galaxxykim/blob/master/weekly_cording20153331_%EA%B9%80%EC%9C%A4%ED%95%98.ipynb\" target=\"_parent\"><img src=\"https://colab.research.google.com/assets/colab-badge.svg\" alt=\"Open In Colab\"/></a>"
      ]
    },
    {
      "cell_type": "code",
      "metadata": {
        "id": "11GHb4XgdtrX",
        "colab_type": "code",
        "outputId": "5e085ed8-bafb-476d-e073-8170f61e521a",
        "colab": {
          "base_uri": "https://localhost:8080/",
          "height": 251
        }
      },
      "source": [
        "num = []  #빈 리스트 생성\n",
        "num = list(map(int,input(\"원하는 숫자 열 개를 입력하세요:\").split())) #숫자 10개 입력\n",
        "num.sort() #리스트 정렬\n",
        "num2 = set(num) #중복된 값 제거\n",
        "if len(num) != len(num2):  #중복된값이 있는지 검사\n",
        "  print(\"중복되는 숫자가 있습니다. 다시 입력해주세요\")\n",
        "  num = list(map(int,input(\"원하는 숫자 열 개를 입력하세요:\").split()))\n",
        "if len(num) > 10:  #숫자 10개를 입력했는지 검사\n",
        "  print(\"숫자를 열개만 입력하십시요.\")\n",
        "elif len(num) < 10:\n",
        "  print(\"숫자 10개를 채우셔야 합니다.\")\n",
        "\n",
        "a = int(input(\"컴퓨터가 찾아주기를 원하는 숫자를 입력해주세요: \"))\n",
        "\n",
        "if a not in num:\n",
        "  print(\"리스트에 있는 숫자를 입력해주세요.\")\n",
        "  print(num)\n",
        "  a = int(input(\"컴퓨터가 찾아주기를 원하는 숫자를 입력해주세요: \"))\n",
        "\n",
        "import random\n",
        "\n",
        "guess = random.choice(num)\n",
        "while True:\n",
        "  count = 0\n",
        "  if guess == a:\n",
        "    count += 1\n",
        "    print(\"혹시 이 숫자가 맞는지요: {}?\".format(guess))\n",
        "    print(\"맞습니다.\")\n",
        "    print(\"{}번 만에 맞추었습니다.\".format(count))\n",
        "    break\n",
        "  elif guess > a:\n",
        "    count += 1\n",
        "    print(\"혹시 이 숫자가 맞는지요: {}?\".format(guess))\n",
        "    print(\"아닙니다. 더 작은 숫자입니다.\")\n",
        "    b = num.index(guess)\n",
        "    del num[b:9+1]\n",
        "    guess = random.choice(num)\n",
        "    count += 1\n",
        "  elif guess < a:\n",
        "    count += 1\n",
        "    print(\"혹시 이 숫자가 맞는지요: {}?\".format(guess))\n",
        "    print(\"아닙니다. 더 큰 숫자입니다.\")\n",
        "    b = num.index(guess)\n",
        "    del num[0:b]\n",
        "    guess = random.choice(num)\n",
        "    count += 1\n",
        "\n",
        "\n",
        "\n",
        "\n"
      ],
      "execution_count": 15,
      "outputs": [
        {
          "output_type": "stream",
          "text": [
            "원하는 숫자 열 개를 입력하세요:1 2 3 4 5 6 7 8 9 10\n",
            "컴퓨터가 찾아주기를 원하는 숫자를 입력해주세요: 5\n",
            "혹시 이 숫자가 맞는지요: 2?\n",
            "아닙니다. 더 큰 숫자입니다.\n",
            "혹시 이 숫자가 맞는지요: 3?\n",
            "아닙니다. 더 큰 숫자입니다.\n",
            "혹시 이 숫자가 맞는지요: 8?\n",
            "아닙니다. 더 작은 숫자입니다.\n",
            "혹시 이 숫자가 맞는지요: 6?\n",
            "아닙니다. 더 작은 숫자입니다.\n",
            "혹시 이 숫자가 맞는지요: 5?\n",
            "맞습니다.\n",
            "1번 만에 맞추었습니다.\n"
          ],
          "name": "stdout"
        }
      ]
    }
  ]
}